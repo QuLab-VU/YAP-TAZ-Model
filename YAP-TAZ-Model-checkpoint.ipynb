{
 "cells": [
  {
   "cell_type": "code",
   "execution_count": 1,
   "id": "e4175067",
   "metadata": {},
   "outputs": [
    {
     "data": {
      "text/plain": [
       "<Model '_interactive_' (monomers: 0, rules: 0, parameters: 0, expressions: 0, compartments: 0) at 0x213400a6e80>"
      ]
     },
     "execution_count": 1,
     "metadata": {},
     "output_type": "execute_result"
    }
   ],
   "source": [
    "from pysb import *\n",
    "from pysb.integrate import Solver \n",
    "from pysb.simulator import ScipyOdeSimulator\n",
    "import matplotlib.pyplot as plt\n",
    "import numpy as np\n",
    "import itertools\n",
    "\n",
    "#Define Model\n",
    "Model()"
   ]
  },
  {
   "cell_type": "code",
   "execution_count": 2,
   "id": "38ca144a",
   "metadata": {},
   "outputs": [
    {
     "data": {
      "text/plain": [
       "Monomer('G_actin', ['state'], {'state': ['Factin', 'i']})"
      ]
     },
     "execution_count": 2,
     "metadata": {},
     "output_type": "execute_result"
    }
   ],
   "source": [
    "# Set Monomers (___ <---We can input any value we want in here)\n",
    "\n",
    "Monomer('FAK', ['state'], {'state': ['p', 'u']})\n",
    "Monomer('RhoA', ['state'], {'state': ['gtp', 'gdp']})\n",
    "Monomer('ROCK', ['state'], {'state': ['a', 'i']})\n",
    "\n",
    "Monomer('mDia', ['state'], {'state': ['A', 'i']})\n",
    "Monomer('Myo', ['state'], {'state': ['A', 'i']})\n",
    "Monomer('LIMK', ['state'], {'state': ['A', 'i']})\n",
    "Monomer('Cofilin', ['state'], {'state': ['np', 'p']})\n",
    "Monomer('G_actin', ['state'], {'state': ['Factin', 'i']})"
   ]
  },
  {
   "cell_type": "code",
   "execution_count": 3,
   "id": "33ddab97",
   "metadata": {},
   "outputs": [
    {
     "data": {
      "text/latex": [
       "$\\displaystyle mDiaB$"
      ],
      "text/plain": [
       "Parameter('mDiaB', 175.57442100000003)"
      ]
     },
     "execution_count": 3,
     "metadata": {},
     "output_type": "execute_result"
    }
   ],
   "source": [
    "# Setting Rate Constants\n",
    "\n",
    "# Other Constants\n",
    "    #V is in Liters and we Choose what E is\n",
    "V = 1.767*1e-15\n",
    "Avog_num = 6.022e23\n",
    "E = 1000\n",
    "\n",
    "# FAK Reaction\n",
    "\n",
    "# Original Units for all (1/s)\n",
    "Parameter('kf', 0.015)\n",
    "Parameter('kdf', 0.035)\n",
    "Parameter('ksf', 0.379*((E+3250)/3250))\n",
    "\n",
    "# RhoA Reaction\n",
    "\n",
    "# Original Units: (1/s)\n",
    "Parameter('kfkp', 0.0168)\n",
    "#Original Units: 1/(uM^5)\n",
    "Parameter('gamma', 77.56*1e30/((Avog_num*V)**5))\n",
    "#Original Units: unitless\n",
    "Parameter('n', 5)\n",
    "# Used for 1st order Reverse reaction\n",
    "# Original Units: (1/s)\n",
    "Parameter('kde', 0.625)\n",
    "\n",
    "# ROCK Reaction\n",
    "\n",
    "# Will be used for 2nd order reaction\n",
    "# Original units: 1/(s*uM)\n",
    "Parameter('krp', 0.648*1e6/(V*Avog_num))\n",
    "# Will be used for 1st order reaction\n",
    "# Original Units: (1/s)\n",
    "Parameter('kd', 0.8)\n",
    "\n",
    "# mDia Reaction\n",
    "\n",
    "# Used for 2nd order reactions\n",
    "# Original Units: 1/(s*uM)\n",
    "Parameter('kmp', 0.002*1e6/(V*Avog_num))\n",
    "# Used for 1st order reactions\n",
    "# Original Units: 1/s\n",
    "Parameter('kdmDia', 0.005)\n",
    "\n",
    "# Myo Reaction\n",
    "\n",
    "# Both are 1st order\n",
    "# Original Units: 1/s\n",
    "Parameter('kmr', 0.03)\n",
    "# Original Units: 1/uM\n",
    "Parameter('e', 36*1e6*(Avog_num*V))\n",
    "# Original Units: 1/s\n",
    "Parameter('kdmy', 0.067)\n",
    "\n",
    "# LIMK Reaction \n",
    "\n",
    "# Both are 1st order \n",
    "# Original Units: 1/s\n",
    "Parameter('klr', 0.07)\n",
    "# Original Units: 1/uM\n",
    "Parameter('tau', 55.49*1e6*(Avog_num*V))\n",
    "# Original Units: 1/s\n",
    "Parameter('kdl', 2)\n",
    "\n",
    "# Cofilin Reaction\n",
    "\n",
    "# Used for 1st order reaction\n",
    "# Original Units: 1/s\n",
    "Parameter('kturnover', 0.04)\n",
    "# Used for 2nd order reaction\n",
    "# Original Units: 1/s\n",
    "Parameter('kcatcofilin', 0.34)\n",
    "Parameter('kmcofilin', 4*1e-6*V*Avog_num)\n",
    "\n",
    "# G-actin to Factin Reaction\n",
    "\n",
    "# Used for 1st order reaction\n",
    "# Original Units: 1/s\n",
    "Parameter('kra', 0.4)\n",
    "# Original Units: 1/uM\n",
    "Parameter('alpha', 50*1e6*(Avog_num*V))\n",
    "# Used for 1st order reaction\n",
    "# Original Units: 1/s\n",
    "Parameter('kdep', 3.5)\n",
    "# Used for 2nd order reaction\n",
    "# Original Units: 1/(s*uM)\n",
    "Parameter('kfc1', 4*1e6/(V*Avog_num))\n",
    "\n",
    "# For the tanh Functions:\n",
    "Parameter('sc1', 20*1e6/(V*Avog_num))\n",
    "Parameter('ROCKB', 0.3*1e-6*V*Avog_num)\n",
    "Parameter('mDiaB', 0.165*1e-6*V*Avog_num)"
   ]
  },
  {
   "cell_type": "code",
   "execution_count": 4,
   "id": "354fbe2d",
   "metadata": {},
   "outputs": [
    {
     "data": {
      "text/plain": [
       "Initial(G_actin(state='i'), G_actin_0)"
      ]
     },
     "execution_count": 4,
     "metadata": {},
     "output_type": "execute_result"
    }
   ],
   "source": [
    "# Setting the Initial Values\n",
    "\n",
    "Parameter('FAKp_0', 0.3*1e-6*V*Avog_num)\n",
    "Initial(FAK(state = 'p'), FAKp_0)\n",
    "Parameter('FAKu_0', 0.7*1e-6*V*Avog_num)\n",
    "Initial(FAK(state = 'u'), FAKu_0)\n",
    "\n",
    "Parameter('RhoAgtp_0', 23750)\n",
    "Initial(RhoA(state = 'gtp'), RhoAgtp_0)\n",
    "Parameter('RhoAgdp_0', 1*1e-6*V*Avog_num)\n",
    "Initial(RhoA(state = 'gdp'), RhoAgdp_0 )\n",
    "\n",
    "Parameter('ROCKa_0',1*1e-6*V*Avog_num)\n",
    "Initial(ROCK(state = 'a'), ROCKa_0)\n",
    "Parameter('ROCKi_0', 0.7*1e-6*V*Avog_num)\n",
    "Initial(ROCK(state = 'i'), ROCKi_0)\n",
    "\n",
    "Parameter('mDiaA_0', 0)\n",
    "Initial(mDia(state = 'A'), mDiaA_0)\n",
    "Parameter('mDiai_0', 0.8*1e-6*V*Avog_num)\n",
    "Initial(mDia(state = 'i'), mDiai_0)\n",
    "\n",
    "Parameter('MyoA_0', 1.5*1e-6*V*Avog_num)\n",
    "Initial(Myo(state = 'A'), MyoA_0)\n",
    "Parameter('Myoi_0', 3.5*1e-6*V*Avog_num)\n",
    "Initial(Myo(state = 'i'), Myoi_0)\n",
    "\n",
    "Parameter('LIMKA_0', 0.1*1e-6*V*Avog_num)\n",
    "Initial(LIMK(state = 'A'), LIMKA_0)\n",
    "Parameter('LIMKi_0', 1.9*1e-6*V*Avog_num)\n",
    "Initial(LIMK(state = 'i'), LIMKi_0)\n",
    "\n",
    "Parameter('CofilinNP_0', 1.8*1e-6*V*Avog_num)\n",
    "Initial(Cofilin(state = 'np'), CofilinNP_0 )\n",
    "Parameter('CofilinP_0', 0.2*1e-6*V*Avog_num)\n",
    "Initial(Cofilin(state = 'p'), CofilinP_0 )\n",
    "\n",
    "Parameter('Factin_0', 17.9*1e-6*V*Avog_num)\n",
    "Initial(G_actin(state = 'Factin'), Factin_0)\n",
    "Parameter('G_actin_0', 482.4*1e-6*V*Avog_num)\n",
    "Initial(G_actin(state = 'i'), G_actin_0)"
   ]
  },
  {
   "cell_type": "code",
   "execution_count": 5,
   "id": "082fe9ca",
   "metadata": {},
   "outputs": [
    {
     "data": {
      "text/latex": [
       "$\\displaystyle obsG_{actin}$"
      ],
      "text/plain": [
       "Observable('obsG_actin', G_actin(state='i'))"
      ]
     },
     "execution_count": 5,
     "metadata": {},
     "output_type": "execute_result"
    }
   ],
   "source": [
    "# Observables\n",
    "Observable('obsFAKp', FAK(state = 'p'))\n",
    "Observable('obsFAKu', FAK(state = 'u'))\n",
    "\n",
    "Observable('obsRhoAgtp', RhoA(state = 'gtp'))\n",
    "Observable('obsRhoAgdp', RhoA(state = 'gdp'))\n",
    "\n",
    "Observable('obsROCKa', ROCK(state = 'a'))\n",
    "Observable('obsROCKi', ROCK(state = 'i'))\n",
    "\n",
    "Observable('obsmDiaA', mDia(state = 'A'))\n",
    "Observable('obsmDiai', mDia(state = 'i'))\n",
    "\n",
    "Observable('obsMyoA', Myo(state = 'A'))\n",
    "Observable('obsMyoi', Myo(state = 'i'))\n",
    "\n",
    "Observable('obsLIMKA',LIMK(state = 'A'))\n",
    "Observable('obsLIMKi',LIMK(state = 'i'))\n",
    "\n",
    "Observable('obsCofilinNP', Cofilin(state = 'np'))\n",
    "Observable('obsCofilinP', Cofilin(state = 'p'))\n",
    "\n",
    "Observable('obsFactin', G_actin(state = 'Factin'))\n",
    "Observable('obsG_actin', G_actin(state = 'i'))"
   ]
  },
  {
   "cell_type": "code",
   "execution_count": 6,
   "id": "188745d6",
   "metadata": {},
   "outputs": [
    {
     "ename": "TypeError",
     "evalue": "loop of ufunc does not support argument 0 of type Mul which has no callable tanh method",
     "output_type": "error",
     "traceback": [
      "\u001b[1;31m---------------------------------------------------------------------------\u001b[0m",
      "\u001b[1;31mAttributeError\u001b[0m                            Traceback (most recent call last)",
      "\u001b[1;31mAttributeError\u001b[0m: 'Mul' object has no attribute 'tanh'",
      "\nThe above exception was the direct cause of the following exception:\n",
      "\u001b[1;31mTypeError\u001b[0m                                 Traceback (most recent call last)",
      "\u001b[1;32m<ipython-input-6-2f149824420b>\u001b[0m in \u001b[0;36m<module>\u001b[1;34m\u001b[0m\n\u001b[0;32m     24\u001b[0m \u001b[1;33m\u001b[0m\u001b[0m\n\u001b[0;32m     25\u001b[0m \u001b[1;31m# Myo\u001b[0m\u001b[1;33m\u001b[0m\u001b[1;33m\u001b[0m\u001b[1;33m\u001b[0m\u001b[0m\n\u001b[1;32m---> 26\u001b[1;33m \u001b[0mExpression\u001b[0m\u001b[1;33m(\u001b[0m\u001b[1;34m'Myo_to_MyoA'\u001b[0m\u001b[1;33m,\u001b[0m \u001b[0mkmr\u001b[0m\u001b[1;33m*\u001b[0m\u001b[1;33m(\u001b[0m\u001b[0me\u001b[0m\u001b[1;33m*\u001b[0m\u001b[1;33m(\u001b[0m\u001b[1;33m(\u001b[0m\u001b[0mnp\u001b[0m\u001b[1;33m.\u001b[0m\u001b[0mtanh\u001b[0m\u001b[1;33m(\u001b[0m\u001b[0msc1\u001b[0m\u001b[1;33m*\u001b[0m\u001b[1;33m(\u001b[0m\u001b[0mobsROCKa\u001b[0m \u001b[1;33m-\u001b[0m \u001b[0mROCKB\u001b[0m\u001b[1;33m)\u001b[0m\u001b[1;33m)\u001b[0m\u001b[1;33m.\u001b[0m\u001b[0mfloat\u001b[0m\u001b[1;33m(\u001b[0m\u001b[1;33m)\u001b[0m \u001b[1;33m+\u001b[0m \u001b[1;36m1\u001b[0m\u001b[1;33m)\u001b[0m\u001b[1;33m*\u001b[0m\u001b[0mobsROCKa\u001b[0m\u001b[1;33m*\u001b[0m\u001b[1;36m0.5\u001b[0m\u001b[1;33m)\u001b[0m \u001b[1;33m+\u001b[0m\u001b[1;36m1\u001b[0m \u001b[1;33m)\u001b[0m\u001b[1;33m)\u001b[0m\u001b[1;33m\u001b[0m\u001b[1;33m\u001b[0m\u001b[0m\n\u001b[0m\u001b[0;32m     27\u001b[0m \u001b[0mRule\u001b[0m\u001b[1;33m(\u001b[0m\u001b[1;34m'activ_Myo'\u001b[0m\u001b[1;33m,\u001b[0m \u001b[0mMyo\u001b[0m\u001b[1;33m(\u001b[0m\u001b[0mstate\u001b[0m \u001b[1;33m=\u001b[0m \u001b[1;34m'i'\u001b[0m\u001b[1;33m)\u001b[0m \u001b[1;33m|\u001b[0m \u001b[0mMyo\u001b[0m\u001b[1;33m(\u001b[0m\u001b[0mstate\u001b[0m \u001b[1;33m=\u001b[0m \u001b[1;34m'A'\u001b[0m\u001b[1;33m)\u001b[0m\u001b[1;33m,\u001b[0m \u001b[0mMyo_to_MyoA\u001b[0m\u001b[1;33m,\u001b[0m \u001b[0mkdmy\u001b[0m\u001b[1;33m)\u001b[0m\u001b[1;33m\u001b[0m\u001b[1;33m\u001b[0m\u001b[0m\n\u001b[0;32m     28\u001b[0m \u001b[1;33m\u001b[0m\u001b[0m\n",
      "\u001b[1;31mTypeError\u001b[0m: loop of ufunc does not support argument 0 of type Mul which has no callable tanh method"
     ]
    }
   ],
   "source": [
    "# Rules\n",
    "\n",
    "# FAK\n",
    "# Regular Forward and Backward FAK Reaction\n",
    "Rule('activ_FAK', FAK(state = 'u') | FAK(state = 'p'), kf, kdf)\n",
    "# Forward FAK Reaction activated by stiffness\n",
    "Rule('activ_FAK_stiff', FAK(state = 'u') >> FAK(state = 'p'), ksf)\n",
    "\n",
    "# RhoA\n",
    "Expression('RhoAgdp_to_RhoAgtp', kfkp*(gamma*obsFAKp**5+1))\n",
    "Rule('activ_RhoA', RhoA(state = 'gdp') | RhoA(state = 'gtp'), RhoAgdp_to_RhoAgtp, kde)\n",
    "\n",
    "# ROCK\n",
    "# 2nd Order Forward Reaction\n",
    "Rule('activ_ROCK', ROCK(state = 'i') + RhoA(state = 'gtp') >> ROCK(state = 'a') + RhoA(state = 'gtp'), krp)\n",
    "# 1st Order Reverse Reaction\n",
    "Rule('deactiv_ROCK', ROCK(state = 'a') >> ROCK(state = 'i'), kd)\n",
    "\n",
    "# mDia\n",
    "# 2nd Order Forward Reaction\n",
    "Rule('activ_mDia', RhoA(state = 'gtp') + mDia(state = 'i') >> RhoA(state = 'gtp') + mDia(state = 'A'), kmp)\n",
    "# 1st Order Reverse Reaction\n",
    "Rule('deactiv_mDia', mDia(state = 'A') >> mDia(state = 'i'), kdmDia)\n",
    "\n",
    "# Myo\n",
    "Expression('Myo_to_MyoA', kmr*(e*((np.tanh(sc1*(obsROCKa - ROCKB)).float() + 1)*obsROCKa*0.5) +1 ))\n",
    "Rule('activ_Myo', Myo(state = 'i') | Myo(state = 'A'), Myo_to_MyoA, kdmy)\n",
    "\n",
    "# LIMK \n",
    "Expression('LIMK_to_LIMKA', klr*(tau*((np.tanh(sc1*(obsROCKa - ROCKB)).float() + 1)*obsROCKa*0.5) +1 ))\n",
    "Rule('activ_LIMKA', LIMK(state = 'i') | LIMK(state = 'A'), LIMK_to_LIMKA, kdl)\n",
    "\n",
    "# Cofilin\n",
    "Rule('activ_cofilin', Cofilin(state = 'p') >> Cofilin(state = 'np'), kturnover)\n",
    "Expression('cofilinNP_to_cofilinP', kcatcofilin/(kmcofilin + obsCofilinNP))\n",
    "Rule('deactiv_cofilin', Cofilin(state = 'np') + LIMK(state = 'A') >> Cofilin(state = 'p') + LIMK(state = 'A'), cofilinNP_to_cofilinP)\n",
    "\n",
    "# G_Actin to Factin\n",
    "Expression('G_actin_to_Factin', kra*(alpha*((np.tanh(sc1*(obsmDiaA - mDiaB)).float() + 1)*obsmDiaA*0.5) +1 ))\n",
    "Rule('activ_G_actin', G_actin(state = 'i') | G_actin(state = 'Factin'), G_actin_to_Factin, kdep)\n",
    "\n",
    "Rule('deactiv_G_actin_Cofilin', G_actin(state = 'Factin') + Cofilin(state = 'np') >> G_actin(state = 'i') + Cofilin(state = 'np'), kfc1)\n",
    "\n"
   ]
  },
  {
   "cell_type": "code",
   "execution_count": null,
   "id": "452e200b",
   "metadata": {},
   "outputs": [],
   "source": [
    "tspan = np.linspace(0, 100, 500)\n",
    "sim = ScipyOdeSimulator(model, tspan)\n",
    "for i,s in enumerate(model.species):\n",
    "    print(i,s)\n",
    "print()\n",
    "for a,r in enumerate(model.reactions): \n",
    "    print(a,r['rate'])\n",
    "print()\n",
    "for i, ode in enumerate(model.odes):\n",
    "    print(i,'ds%d/dt = '%i,ode)\n",
    "# result = sim.run()\n",
    "# plt.plot(tspan, result.observables['obsS'])\n",
    "# plt.show()"
   ]
  }
 ],
 "metadata": {
  "kernelspec": {
   "display_name": "Python 3",
   "language": "python",
   "name": "python3"
  },
  "language_info": {
   "codemirror_mode": {
    "name": "ipython",
    "version": 3
   },
   "file_extension": ".py",
   "mimetype": "text/x-python",
   "name": "python",
   "nbconvert_exporter": "python",
   "pygments_lexer": "ipython3",
   "version": "3.8.8"
  }
 },
 "nbformat": 4,
 "nbformat_minor": 5
}
